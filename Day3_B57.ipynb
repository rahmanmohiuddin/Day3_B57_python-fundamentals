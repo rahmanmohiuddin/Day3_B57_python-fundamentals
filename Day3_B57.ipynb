{
 "cells": [
  {
   "cell_type": "code",
   "execution_count": null,
   "id": "f99976e9",
   "metadata": {},
   "outputs": [],
   "source": [
    "continuation with strings:"
   ]
  },
  {
   "cell_type": "code",
   "execution_count": null,
   "id": "cb21896e",
   "metadata": {},
   "outputs": [],
   "source": []
  },
  {
   "cell_type": "code",
   "execution_count": 1,
   "id": "9975fee8",
   "metadata": {},
   "outputs": [
    {
     "name": "stdout",
     "output_type": "stream",
     "text": [
      "teja kumar\n"
     ]
    }
   ],
   "source": [
    "full_name = 'teja kumar'\n",
    "print(full_name)"
   ]
  },
  {
   "cell_type": "code",
   "execution_count": null,
   "id": "391e30d4",
   "metadata": {},
   "outputs": [],
   "source": []
  },
  {
   "cell_type": "code",
   "execution_count": null,
   "id": "093064f0",
   "metadata": {},
   "outputs": [],
   "source": [
    "string methods :"
   ]
  },
  {
   "cell_type": "code",
   "execution_count": 2,
   "id": "04c51698",
   "metadata": {},
   "outputs": [
    {
     "name": "stdout",
     "output_type": "stream",
     "text": [
      "Teja Kumar\n"
     ]
    }
   ],
   "source": [
    "print(full_name.title())"
   ]
  },
  {
   "cell_type": "code",
   "execution_count": null,
   "id": "bbc65468",
   "metadata": {},
   "outputs": [],
   "source": []
  },
  {
   "cell_type": "code",
   "execution_count": null,
   "id": "12117ef2",
   "metadata": {},
   "outputs": [],
   "source": [
    "# i want the full name in capital letters"
   ]
  },
  {
   "cell_type": "code",
   "execution_count": 3,
   "id": "9a024396",
   "metadata": {},
   "outputs": [
    {
     "name": "stdout",
     "output_type": "stream",
     "text": [
      "TEJA KUMAR\n"
     ]
    }
   ],
   "source": [
    "print(full_name.upper())"
   ]
  },
  {
   "cell_type": "code",
   "execution_count": null,
   "id": "aa19587a",
   "metadata": {},
   "outputs": [],
   "source": []
  },
  {
   "cell_type": "code",
   "execution_count": null,
   "id": "f1d96bcd",
   "metadata": {},
   "outputs": [],
   "source": [
    "# i want to get the full name in small case letters.....?"
   ]
  },
  {
   "cell_type": "code",
   "execution_count": 4,
   "id": "07cbacdc",
   "metadata": {},
   "outputs": [
    {
     "name": "stdout",
     "output_type": "stream",
     "text": [
      "teja kumar\n"
     ]
    }
   ],
   "source": [
    "print(full_name.lower())"
   ]
  },
  {
   "cell_type": "code",
   "execution_count": null,
   "id": "c7596440",
   "metadata": {},
   "outputs": [],
   "source": []
  },
  {
   "cell_type": "code",
   "execution_count": 5,
   "id": "ee80260f",
   "metadata": {},
   "outputs": [
    {
     "data": {
      "text/plain": [
       "str"
      ]
     },
     "execution_count": 5,
     "metadata": {},
     "output_type": "execute_result"
    }
   ],
   "source": [
    "type(full_name)"
   ]
  },
  {
   "cell_type": "code",
   "execution_count": null,
   "id": "2f40f7f9",
   "metadata": {},
   "outputs": [],
   "source": [
    "string---->str"
   ]
  },
  {
   "cell_type": "code",
   "execution_count": null,
   "id": "bb03a3c7",
   "metadata": {},
   "outputs": [],
   "source": [
    "type method will be helping us to validate and confirm the datatype."
   ]
  },
  {
   "cell_type": "code",
   "execution_count": null,
   "id": "42facb6e",
   "metadata": {},
   "outputs": [],
   "source": []
  },
  {
   "cell_type": "code",
   "execution_count": null,
   "id": "6c45cd13",
   "metadata": {},
   "outputs": [],
   "source": [
    "introduction to f strings :"
   ]
  },
  {
   "cell_type": "code",
   "execution_count": null,
   "id": "c6e3d151",
   "metadata": {},
   "outputs": [],
   "source": []
  },
  {
   "cell_type": "code",
   "execution_count": 6,
   "id": "25f27037",
   "metadata": {},
   "outputs": [],
   "source": [
    "first_name = 'manoj'\n",
    "last_name = 'kumar'"
   ]
  },
  {
   "cell_type": "code",
   "execution_count": null,
   "id": "bfe414dd",
   "metadata": {},
   "outputs": [],
   "source": []
  },
  {
   "cell_type": "code",
   "execution_count": null,
   "id": "067f11a5",
   "metadata": {},
   "outputs": [],
   "source": [
    "full_name.........?"
   ]
  },
  {
   "cell_type": "code",
   "execution_count": null,
   "id": "f72641ac",
   "metadata": {},
   "outputs": [],
   "source": [
    "# general syntax of a f strings :"
   ]
  },
  {
   "cell_type": "code",
   "execution_count": null,
   "id": "a50a3c0a",
   "metadata": {},
   "outputs": [],
   "source": [
    "f\" custom words {placeholder1} {placeholder2}..... {placeholder....n}\""
   ]
  },
  {
   "cell_type": "code",
   "execution_count": null,
   "id": "bb615728",
   "metadata": {},
   "outputs": [],
   "source": []
  },
  {
   "cell_type": "code",
   "execution_count": 7,
   "id": "679aed82",
   "metadata": {},
   "outputs": [
    {
     "name": "stdout",
     "output_type": "stream",
     "text": [
      "manoj kumar\n"
     ]
    }
   ],
   "source": [
    "full_name =f\"{first_name} {last_name}\"\n",
    "print(full_name)"
   ]
  },
  {
   "cell_type": "code",
   "execution_count": 9,
   "id": "885553c2",
   "metadata": {},
   "outputs": [
    {
     "name": "stdout",
     "output_type": "stream",
     "text": [
      "keep up the good work, Manoj Kumar\n"
     ]
    }
   ],
   "source": [
    "message = f\"keep up the good work, {full_name.title()}\"\n",
    "print(message)"
   ]
  },
  {
   "cell_type": "code",
   "execution_count": null,
   "id": "87270a3a",
   "metadata": {},
   "outputs": [],
   "source": []
  },
  {
   "cell_type": "code",
   "execution_count": null,
   "id": "c2e537d2",
   "metadata": {},
   "outputs": [],
   "source": [
    "adding whitespaces to strings :"
   ]
  },
  {
   "cell_type": "code",
   "execution_count": 10,
   "id": "2140d128",
   "metadata": {},
   "outputs": [
    {
     "name": "stdout",
     "output_type": "stream",
     "text": [
      "fav_prog_lang:pythonc++javacswiftcobalpascal\n"
     ]
    }
   ],
   "source": [
    "print('fav_prog_lang:pythonc++javacswiftcobalpascal')"
   ]
  },
  {
   "cell_type": "code",
   "execution_count": 11,
   "id": "ab9c8eac",
   "metadata": {},
   "outputs": [
    {
     "name": "stdout",
     "output_type": "stream",
     "text": [
      "fav_prog_lang:\n",
      "python\n",
      "c++\n",
      "java\n",
      "cswift\n",
      "cobal\n",
      "pascal\n"
     ]
    }
   ],
   "source": [
    "print('fav_prog_lang:\\npython\\nc++\\njava\\ncswift\\ncobal\\npascal') # \\n------->new line deimiter"
   ]
  },
  {
   "cell_type": "code",
   "execution_count": 12,
   "id": "4a746481",
   "metadata": {},
   "outputs": [
    {
     "name": "stdout",
     "output_type": "stream",
     "text": [
      "fav_prog_lang:\n",
      "\tpython\n",
      "\tc++\n",
      "\tjava\n",
      "\tcswift\n",
      "\tcobal\n",
      "\tpascal\n"
     ]
    }
   ],
   "source": [
    "print('fav_prog_lang:\\n\\tpython\\n\\tc++\\n\\tjava\\n\\tcswift\\n\\tcobal\\n\\tpascal')"
   ]
  },
  {
   "cell_type": "code",
   "execution_count": null,
   "id": "ea703502",
   "metadata": {},
   "outputs": [],
   "source": [
    "removing whitespaces from the strings :"
   ]
  },
  {
   "cell_type": "code",
   "execution_count": null,
   "id": "161187d6",
   "metadata": {},
   "outputs": [],
   "source": []
  },
  {
   "cell_type": "code",
   "execution_count": 14,
   "id": "69bfa674",
   "metadata": {},
   "outputs": [
    {
     "name": "stdout",
     "output_type": "stream",
     "text": [
      "manavitha\n"
     ]
    }
   ],
   "source": [
    "name = 'manavitha'\n",
    "print(name)"
   ]
  },
  {
   "cell_type": "code",
   "execution_count": 15,
   "id": "e0b23179",
   "metadata": {},
   "outputs": [
    {
     "name": "stdout",
     "output_type": "stream",
     "text": [
      "  manavitha\n"
     ]
    }
   ],
   "source": [
    "name2 = '  manavitha'\n",
    "print(name2)"
   ]
  },
  {
   "cell_type": "code",
   "execution_count": 16,
   "id": "bd9154f6",
   "metadata": {},
   "outputs": [
    {
     "name": "stdout",
     "output_type": "stream",
     "text": [
      "manavitha \n"
     ]
    }
   ],
   "source": [
    "name3 = \"manavitha \"\n",
    "print(name3)"
   ]
  },
  {
   "cell_type": "code",
   "execution_count": 17,
   "id": "8d8af956",
   "metadata": {},
   "outputs": [
    {
     "data": {
      "text/plain": [
       "'manavitha'"
      ]
     },
     "execution_count": 17,
     "metadata": {},
     "output_type": "execute_result"
    }
   ],
   "source": [
    "name3.strip()"
   ]
  }
 ],
 "metadata": {
  "kernelspec": {
   "display_name": "Python 3 (ipykernel)",
   "language": "python",
   "name": "python3"
  },
  "language_info": {
   "codemirror_mode": {
    "name": "ipython",
    "version": 3
   },
   "file_extension": ".py",
   "mimetype": "text/x-python",
   "name": "python",
   "nbconvert_exporter": "python",
   "pygments_lexer": "ipython3",
   "version": "3.9.7"
  }
 },
 "nbformat": 4,
 "nbformat_minor": 5
}
